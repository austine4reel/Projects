{
 "cells": [
  {
   "cell_type": "code",
   "execution_count": 1,
   "metadata": {},
   "outputs": [],
   "source": [
    "\n",
    "def display_board(board):\n",
    "    print(board[1]+'|'+board[2]+'|'+board[3])\n",
    "    print(board[4]+'|'+board[5]+'|'+board[6])\n",
    "    print(board[7]+'|'+board[8]+'|'+board[9])"
   ]
  },
  {
   "cell_type": "code",
   "execution_count": 2,
   "metadata": {},
   "outputs": [],
   "source": [
    "test_board = ['#','X','O','X','O','X','O','X','O','X']"
   ]
  },
  {
   "cell_type": "code",
   "execution_count": 3,
   "metadata": {},
   "outputs": [
    {
     "name": "stdout",
     "output_type": "stream",
     "text": [
      "X|O|X\n",
      "O|X|O\n",
      "X|O|X\n"
     ]
    }
   ],
   "source": [
    "display_board(test_board)"
   ]
  },
  {
   "cell_type": "code",
   "execution_count": 4,
   "metadata": {},
   "outputs": [],
   "source": [
    "def player_input():\n",
    "    marker = ' '\n",
    "    marker = input(' player1: choose between \"X\" or \"O\"' ).upper()\n",
    "    if marker == 'X':\n",
    "        return (\"X\" , \"O\")\n",
    "    else:\n",
    "        return (\"O\",\"X\")"
   ]
  },
  {
   "cell_type": "code",
   "execution_count": 5,
   "metadata": {},
   "outputs": [
    {
     "name": "stdout",
     "output_type": "stream",
     "text": [
      " player1: choose between \"X\" or \"O\"\n"
     ]
    },
    {
     "data": {
      "text/plain": [
       "('O', 'X')"
      ]
     },
     "execution_count": 5,
     "metadata": {},
     "output_type": "execute_result"
    }
   ],
   "source": [
    "player_input()"
   ]
  },
  {
   "cell_type": "code",
   "execution_count": 6,
   "metadata": {},
   "outputs": [],
   "source": [
    "def place_marker(board, marker, position):\n",
    "    board[position] = marker"
   ]
  },
  {
   "cell_type": "code",
   "execution_count": 7,
   "metadata": {},
   "outputs": [
    {
     "name": "stdout",
     "output_type": "stream",
     "text": [
      "X|O|X\n",
      "O|X|X\n",
      "X|O|X\n"
     ]
    }
   ],
   "source": [
    "place_marker(test_board,'X',6)\n",
    "display_board(test_board)\n",
    "    "
   ]
  },
  {
   "cell_type": "code",
   "execution_count": 8,
   "metadata": {},
   "outputs": [],
   "source": [
    "def win_check(board, mark):\n",
    "    mark = mark.upper()\n",
    "    return ((board[1] == mark and board[2] == mark and board[3] == mark)\n",
    "        or  (board[4] == mark and board[5] == mark and board[6] == mark)\n",
    "        or  (board[7] == mark and board[8] == mark and board[9] == mark)\n",
    "        or  (board[1] == mark and board[5] == mark and board[9] == mark)\n",
    "        or  (board[7] == mark and board[5] == mark and board[3] == mark)\n",
    "        or  (board[1] == mark and board[4] == mark and board[7] == mark)\n",
    "        or  (board[2] == mark and board[5] == mark and board[8] == mark)\n",
    "        or  (board[3] == mark and board[6] == mark and board[9] == mark))\n",
    "    "
   ]
  },
  {
   "cell_type": "code",
   "execution_count": 9,
   "metadata": {},
   "outputs": [
    {
     "data": {
      "text/plain": [
       "True"
      ]
     },
     "execution_count": 9,
     "metadata": {},
     "output_type": "execute_result"
    }
   ],
   "source": [
    "win_check(test_board, 'x')"
   ]
  },
  {
   "cell_type": "code",
   "execution_count": 10,
   "metadata": {},
   "outputs": [],
   "source": [
    "import random\n",
    "\n",
    "def choose_first():\n",
    "    if random.randint(1,2) == 1:\n",
    "        return 'player1'\n",
    "    else:\n",
    "        return 'player2'"
   ]
  },
  {
   "cell_type": "code",
   "execution_count": 11,
   "metadata": {},
   "outputs": [
    {
     "data": {
      "text/plain": [
       "'player1'"
      ]
     },
     "execution_count": 11,
     "metadata": {},
     "output_type": "execute_result"
    }
   ],
   "source": [
    "choose_first()"
   ]
  },
  {
   "cell_type": "code",
   "execution_count": 12,
   "metadata": {},
   "outputs": [],
   "source": [
    "def space_check(board, position):\n",
    "    return board[position] == ' '"
   ]
  },
  {
   "cell_type": "code",
   "execution_count": 13,
   "metadata": {},
   "outputs": [
    {
     "data": {
      "text/plain": [
       "False"
      ]
     },
     "execution_count": 13,
     "metadata": {},
     "output_type": "execute_result"
    }
   ],
   "source": [
    "space_check(test_board,5)"
   ]
  },
  {
   "cell_type": "code",
   "execution_count": 14,
   "metadata": {},
   "outputs": [],
   "source": [
    "def full_board_check(board):\n",
    "    for i in range(0,10):\n",
    "        if board[i] == ' ':\n",
    "            return False\n",
    "    return True"
   ]
  },
  {
   "cell_type": "code",
   "execution_count": 15,
   "metadata": {},
   "outputs": [
    {
     "data": {
      "text/plain": [
       "True"
      ]
     },
     "execution_count": 15,
     "metadata": {},
     "output_type": "execute_result"
    }
   ],
   "source": [
    "full_board_check(test_board)"
   ]
  },
  {
   "cell_type": "code",
   "execution_count": 16,
   "metadata": {},
   "outputs": [],
   "source": [
    "def player_choice(board):\n",
    "    move = int(input( choose_first() + '  choose your number:'))\n",
    "    if space_check(board,move) == True:\n",
    "        return move\n",
    "    else:\n",
    "        print('This space is not available')"
   ]
  },
  {
   "cell_type": "code",
   "execution_count": 17,
   "metadata": {},
   "outputs": [
    {
     "name": "stdout",
     "output_type": "stream",
     "text": [
      "player1  choose your number:2\n",
      "This space is not available\n"
     ]
    }
   ],
   "source": [
    "player_choice(test_board)"
   ]
  },
  {
   "cell_type": "code",
   "execution_count": 18,
   "metadata": {},
   "outputs": [],
   "source": [
    "def replay():\n",
    "    x = input('Answer \"yes\" or \"no\" if you want to play again   ').lower()\n",
    "    return x == 'yes'"
   ]
  },
  {
   "cell_type": "code",
   "execution_count": 19,
   "metadata": {},
   "outputs": [
    {
     "name": "stdout",
     "output_type": "stream",
     "text": [
      "Answer \"yes\" or \"no\" if you want to play again   \n"
     ]
    },
    {
     "data": {
      "text/plain": [
       "False"
      ]
     },
     "execution_count": 19,
     "metadata": {},
     "output_type": "execute_result"
    }
   ],
   "source": [
    "replay()"
   ]
  },
  {
   "cell_type": "code",
   "execution_count": null,
   "metadata": {},
   "outputs": [
    {
     "name": "stdout",
     "output_type": "stream",
     "text": [
      "Welcome to Tic Tac Toe!\n"
     ]
    }
   ],
   "source": [
    "print('Welcome to Tic Tac Toe!')\n",
    "while True:\n",
    "    player1_marker, player2_marker = player_input()\n",
    "    turn = choose_first()\n",
    "    print(turn + ' will go first. ')\n",
    "    \n",
    "    test_board = [' ',' ',' ',' ',' ',' ',' ',' ',' ',' ']\n",
    "    start = input('Answer \"yes\" or \"no\" if you want to start game   ').lower()\n",
    "    if start == 'yes':\n",
    "        game_start = True\n",
    "    else:\n",
    "        game_start = False\n",
    "    while game_start == True:\n",
    "        \n",
    "        if turn == 'player1':\n",
    "            display_board(test_board)\n",
    "            position = player_choice(test_board)\n",
    "            place_marker(test_board, player1_marker, position)\n",
    "            if win_check(test_board,player1_marker) == True:\n",
    "                display_board(test_board)\n",
    "                print('Congratulations'+ turn + 'You have won the game')\n",
    "                game_start = False\n",
    "            else:\n",
    "                if full_board_check(test_board) == True:\n",
    "                    display_board(test_board)\n",
    "                    print('The match is a draw!')\n",
    "                else:\n",
    "                    turn = 'player2'\n",
    "                    \n",
    "                \n",
    "        else:\n",
    "            display_board(test_board)\n",
    "            position = player_choice(test_board)\n",
    "            place_marker(test_board, player2_marker, position)\n",
    "            if win_check(test_board,player2_marker) == True:\n",
    "                display_board(test_board)\n",
    "                print('Congratulations'+ turn + 'You have won the game')\n",
    "                game_start = False\n",
    "            else:\n",
    "                if full_board_check(test_board) == True:\n",
    "                    display_board(test_board)\n",
    "                    print('The match is a draw!')\n",
    "                else:\n",
    "                    turn = 'player1'\n",
    "    if not replay():\n",
    "        break"
   ]
  },
  {
   "cell_type": "code",
   "execution_count": null,
   "metadata": {},
   "outputs": [],
   "source": []
  },
  {
   "cell_type": "code",
   "execution_count": null,
   "metadata": {},
   "outputs": [],
   "source": []
  }
 ],
 "metadata": {
  "kernelspec": {
   "display_name": "Python 3",
   "language": "python",
   "name": "python3"
  },
  "language_info": {
   "codemirror_mode": {
    "name": "ipython",
    "version": 3
   },
   "file_extension": ".py",
   "mimetype": "text/x-python",
   "name": "python",
   "nbconvert_exporter": "python",
   "pygments_lexer": "ipython3",
   "version": "3.7.0"
  }
 },
 "nbformat": 4,
 "nbformat_minor": 2
}
